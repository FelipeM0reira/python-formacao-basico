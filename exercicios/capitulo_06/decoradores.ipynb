{
 "cells": [
  {
   "attachments": {},
   "cell_type": "markdown",
   "metadata": {},
   "source": [
    "- Crie um exemplo de função e em seguida crie um decorador para alterar o seu comportamento"
   ]
  },
  {
   "cell_type": "code",
   "execution_count": 2,
   "metadata": {},
   "outputs": [],
   "source": [
    "def operacaoAritmetica(funcao):\n",
    "    def wrapper(*args):\n",
    "        print(f'Antes da operação aritmética')\n",
    "        operacao = funcao(*args)\n",
    "        return operacao\n",
    "    \n",
    "    return wrapper\n",
    "\n",
    "@operacaoAritmetica\n",
    "def soma(*args):\n",
    "    somatorio = sum(args)\n",
    "    return somatorio"
   ]
  },
  {
   "attachments": {},
   "cell_type": "markdown",
   "metadata": {},
   "source": [
    "- Execute a função"
   ]
  },
  {
   "cell_type": "code",
   "execution_count": 3,
   "metadata": {},
   "outputs": [
    {
     "name": "stdout",
     "output_type": "stream",
     "text": [
      "Antes da operação aritmética\n",
      "16\n"
     ]
    }
   ],
   "source": [
    "op = soma(2,4,7)    \n",
    "print(op)"
   ]
  }
 ],
 "metadata": {
  "kernelspec": {
   "display_name": "Python 3",
   "language": "python",
   "name": "python3"
  },
  "language_info": {
   "codemirror_mode": {
    "name": "ipython",
    "version": 3
   },
   "file_extension": ".py",
   "mimetype": "text/x-python",
   "name": "python",
   "nbconvert_exporter": "python",
   "pygments_lexer": "ipython3",
   "version": "3.11.4"
  },
  "orig_nbformat": 4,
  "vscode": {
   "interpreter": {
    "hash": "916dbcbb3f70747c44a77c7bcd40155683ae19c65e1c03b4aa3499c5328201f1"
   }
  }
 },
 "nbformat": 4,
 "nbformat_minor": 2
}
