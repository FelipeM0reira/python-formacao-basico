{
 "cells": [
  {
   "attachments": {},
   "cell_type": "markdown",
   "metadata": {},
   "source": [
    "- Crie uma lista\n"
   ]
  },
  {
   "cell_type": "code",
   "execution_count": 7,
   "metadata": {},
   "outputs": [
    {
     "name": "stdout",
     "output_type": "stream",
     "text": [
      "[0, 1, 2, 3, 4, 5, 6, 7, 8, 9, 10]\n"
     ]
    }
   ],
   "source": [
    "lista = list(range(11))\n",
    "print(lista)"
   ]
  },
  {
   "attachments": {},
   "cell_type": "markdown",
   "metadata": {},
   "source": [
    "- Crie um for loop para imprimir na tela todos os elementos da lista\n"
   ]
  },
  {
   "cell_type": "code",
   "execution_count": 8,
   "metadata": {},
   "outputs": [
    {
     "name": "stdout",
     "output_type": "stream",
     "text": [
      "0\n",
      "1\n",
      "2\n",
      "3\n",
      "4\n",
      "5\n",
      "6\n",
      "7\n",
      "8\n",
      "9\n",
      "10\n"
     ]
    }
   ],
   "source": [
    "for numero in lista:\n",
    "  print(numero)"
   ]
  },
  {
   "attachments": {},
   "cell_type": "markdown",
   "metadata": {},
   "source": [
    "- Crie um for loop usando o recurso \"continue\"\n"
   ]
  },
  {
   "cell_type": "code",
   "execution_count": 11,
   "metadata": {},
   "outputs": [
    {
     "name": "stdout",
     "output_type": "stream",
     "text": [
      "Estamos no “else”.\n",
      "1\n",
      "Esse número é par\n",
      "2\n",
      "Esse número é par\n",
      "4\n",
      "Estamos no “else”.\n",
      "5\n",
      "Estamos no “else”.\n",
      "7\n",
      "Esse número é par\n",
      "8\n",
      "Esse número é par\n",
      "10\n"
     ]
    }
   ],
   "source": [
    "for numero in lista:\n",
    "\tif numero % 3 == 0:\n",
    "\t\tcontinue\n",
    "\telif numero % 2 == 0:\n",
    "\t\tprint('Esse número é par')\n",
    "\telse: \n",
    "\t\tprint('Estamos no “else”.')\n",
    "\tprint(numero)"
   ]
  },
  {
   "attachments": {},
   "cell_type": "markdown",
   "metadata": {},
   "source": [
    "- Crie um for loop usando o recurso \"break\"\n"
   ]
  },
  {
   "cell_type": "code",
   "execution_count": 35,
   "metadata": {},
   "outputs": [
    {
     "name": "stdout",
     "output_type": "stream",
     "text": [
      "Esse numero é divisível por 3. 0\n"
     ]
    }
   ],
   "source": [
    "for numero in lista:\n",
    "    if numero % 3 == 0:\n",
    "      print('Esse numero é divisível por 3.', numero)\n",
    "      break\n",
    "    if numero % 2 == 0:\n",
    "      print('Esse número é par.')\n",
    "    else: \n",
    "      print('Estamos no \"else.\"')\n",
    "    print(numero)"
   ]
  },
  {
   "attachments": {},
   "cell_type": "markdown",
   "metadata": {},
   "source": [
    "- Crie um for loop usando o \"else\"\n"
   ]
  },
  {
   "cell_type": "code",
   "execution_count": 36,
   "metadata": {},
   "outputs": [
    {
     "name": "stdout",
     "output_type": "stream",
     "text": [
      "Esse numero é divisível por 3. 0\n",
      "Esse número é par.\n",
      "0\n",
      "Estamos no \"else.\"\n",
      "1\n",
      "Esse número é par.\n",
      "2\n",
      "Esse numero é divisível por 3. 3\n",
      "Estamos no \"else.\"\n",
      "3\n",
      "Esse número é par.\n",
      "4\n",
      "Estamos no \"else.\"\n",
      "5\n",
      "Esse numero é divisível por 3. 6\n",
      "Esse número é par.\n",
      "6\n",
      "Estamos no \"else.\"\n",
      "7\n",
      "Esse número é par.\n",
      "8\n",
      "Esse numero é divisível por 3. 9\n",
      "Estamos no \"else.\"\n",
      "9\n",
      "Esse número é par.\n",
      "10\n"
     ]
    }
   ],
   "source": [
    "for numero in lista:\n",
    "    if numero % 3 == 0:\n",
    "      print('Esse numero é divisível por 3.', numero)\n",
    "    if numero % 2 == 0:\n",
    "      print('Esse número é par.')\n",
    "    else: \n",
    "      print('Estamos no \"else.\"')\n",
    "    print(numero)"
   ]
  }
 ],
 "metadata": {
  "kernelspec": {
   "display_name": "Python 3",
   "language": "python",
   "name": "python3"
  },
  "language_info": {
   "codemirror_mode": {
    "name": "ipython",
    "version": 3
   },
   "file_extension": ".py",
   "mimetype": "text/x-python",
   "name": "python",
   "nbconvert_exporter": "python",
   "pygments_lexer": "ipython3",
   "version": "3.11.4"
  },
  "orig_nbformat": 4,
  "vscode": {
   "interpreter": {
    "hash": "916dbcbb3f70747c44a77c7bcd40155683ae19c65e1c03b4aa3499c5328201f1"
   }
  }
 },
 "nbformat": 4,
 "nbformat_minor": 2
}
