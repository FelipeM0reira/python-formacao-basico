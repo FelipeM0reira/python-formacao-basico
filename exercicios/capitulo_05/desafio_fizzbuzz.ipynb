{
 "cells": [
  {
   "attachments": {},
   "cell_type": "markdown",
   "metadata": {},
   "source": [
    "- Crie um objeto iterável com 100 dados do tipo numérico e imprima na tela a palavra 'Fizz' no lugar dos números divisíveis por 3, 'Buzz' no lugar dos números divisíveis por 05 e 'FizBuzz' no lugar dos números divisíveis por 3 e 5. Caso o número não atenda a nenhuma dessas condições, imprima o próprio número."
   ]
  },
  {
   "cell_type": "code",
   "execution_count": 2,
   "metadata": {},
   "outputs": [
    {
     "name": "stdout",
     "output_type": "stream",
     "text": [
      "[0, 1, 2, 3, 4, 5, 6, 7, 8, 9, 10, 11, 12, 13, 14, 15, 16, 17, 18, 19, 20, 21, 22, 23, 24, 25, 26, 27, 28, 29, 30, 31, 32, 33, 34, 35, 36, 37, 38, 39, 40, 41, 42, 43, 44, 45, 46, 47, 48, 49, 50, 51, 52, 53, 54, 55, 56, 57, 58, 59, 60, 61, 62, 63, 64, 65, 66, 67, 68, 69, 70, 71, 72, 73, 74, 75, 76, 77, 78, 79, 80, 81, 82, 83, 84, 85, 86, 87, 88, 89, 90, 91, 92, 93, 94, 95, 96, 97, 98, 99]\n"
     ]
    }
   ],
   "source": [
    "lista = list(range(100))\n",
    "print(lista)"
   ]
  },
  {
   "cell_type": "code",
   "execution_count": 7,
   "metadata": {},
   "outputs": [
    {
     "name": "stdout",
     "output_type": "stream",
     "text": [
      "FizBuzz 0\n",
      "1\n",
      "2\n",
      "Fizz 3\n",
      "4\n",
      "Buzz 5\n",
      "Fizz 6\n",
      "7\n",
      "8\n",
      "Fizz 9\n",
      "Buzz 10\n",
      "11\n",
      "Fizz 12\n",
      "13\n",
      "14\n",
      "FizBuzz 15\n",
      "16\n",
      "17\n",
      "Fizz 18\n",
      "19\n",
      "Buzz 20\n",
      "Fizz 21\n",
      "22\n",
      "23\n",
      "Fizz 24\n",
      "Buzz 25\n",
      "26\n",
      "Fizz 27\n",
      "28\n",
      "29\n",
      "FizBuzz 30\n",
      "31\n",
      "32\n",
      "Fizz 33\n",
      "34\n",
      "Buzz 35\n",
      "Fizz 36\n",
      "37\n",
      "38\n",
      "Fizz 39\n",
      "Buzz 40\n",
      "41\n",
      "Fizz 42\n",
      "43\n",
      "44\n",
      "FizBuzz 45\n",
      "46\n",
      "47\n",
      "Fizz 48\n",
      "49\n",
      "Buzz 50\n",
      "Fizz 51\n",
      "52\n",
      "53\n",
      "Fizz 54\n",
      "Buzz 55\n",
      "56\n",
      "Fizz 57\n",
      "58\n",
      "59\n",
      "FizBuzz 60\n",
      "61\n",
      "62\n",
      "Fizz 63\n",
      "64\n",
      "Buzz 65\n",
      "Fizz 66\n",
      "67\n",
      "68\n",
      "Fizz 69\n",
      "Buzz 70\n",
      "71\n",
      "Fizz 72\n",
      "73\n",
      "74\n",
      "FizBuzz 75\n",
      "76\n",
      "77\n",
      "Fizz 78\n",
      "79\n",
      "Buzz 80\n",
      "Fizz 81\n",
      "82\n",
      "83\n",
      "Fizz 84\n",
      "Buzz 85\n",
      "86\n",
      "Fizz 87\n",
      "88\n",
      "89\n",
      "FizBuzz 90\n",
      "91\n",
      "92\n",
      "Fizz 93\n",
      "94\n",
      "Buzz 95\n",
      "Fizz 96\n",
      "97\n",
      "98\n",
      "Fizz 99\n"
     ]
    }
   ],
   "source": [
    "for numero in lista:\n",
    "  if numero % 3 == 0 and numero % 5 == 0:\n",
    "    print('FizBuzzz', numero)\n",
    "  elif numero % 3 == 0:\n",
    "    print('Fizzz', numero)\n",
    "  elif numero % 5 == 0:\n",
    "    print('Buzzz', numero)\n",
    "  else:\n",
    "    print(numero)\n",
    "  "
   ]
  }
 ],
 "metadata": {
  "kernelspec": {
   "display_name": "Python 3",
   "language": "python",
   "name": "python3"
  },
  "language_info": {
   "codemirror_mode": {
    "name": "ipython",
    "version": 3
   },
   "file_extension": ".py",
   "mimetype": "text/x-python",
   "name": "python",
   "nbconvert_exporter": "python",
   "pygments_lexer": "ipython3",
   "version": "3.11.4"
  },
  "orig_nbformat": 4,
  "vscode": {
   "interpreter": {
    "hash": "916dbcbb3f70747c44a77c7bcd40155683ae19c65e1c03b4aa3499c5328201f1"
   }
  }
 },
 "nbformat": 4,
 "nbformat_minor": 2
}
