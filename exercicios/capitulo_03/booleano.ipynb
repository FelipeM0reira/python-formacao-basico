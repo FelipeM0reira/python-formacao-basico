{
 "cells": [
  {
   "attachments": {},
   "cell_type": "markdown",
   "metadata": {},
   "source": [
    "- Declare uma variável do tipo lista com 4 elementos"
   ]
  },
  {
   "cell_type": "code",
   "execution_count": 4,
   "metadata": {},
   "outputs": [],
   "source": [
    "nala = [7, None, 10, 0]"
   ]
  },
  {
   "attachments": {},
   "cell_type": "markdown",
   "metadata": {},
   "source": [
    "- Crie um for loop que passe por todos os itens da lista e imprima o item\n"
   ]
  },
  {
   "cell_type": "code",
   "execution_count": 6,
   "metadata": {},
   "outputs": [
    {
     "name": "stdout",
     "output_type": "stream",
     "text": [
      "Nala dorme com o pai\n",
      "Mãe não deve esta.\n",
      "Nala dorme lá fora\n",
      "Mãe deve esta concerteza\n",
      "Nala dorme com o pai\n",
      "Mãe não deve esta.\n",
      "Nala dorme lá fora\n",
      "Mãe deve esta concerteza\n"
     ]
    }
   ],
   "source": [
    "for item in nala:\n",
    "  if item:\n",
    "    print(f'Nala dorme com o pai')\n",
    "    nala = True\n",
    "    mae = False\n",
    "  else:\n",
    "    print(f'Nala dorme lá fora')\n",
    "    nala = False\n",
    "    mae = True\n",
    "    \n",
    "  if nala:\n",
    "    print('Mãe não deve esta.')\n",
    "  else:\n",
    "    print('Mãe deve esta concerteza')"
   ]
  }
 ],
 "metadata": {
  "kernelspec": {
   "display_name": "Python 3",
   "language": "python",
   "name": "python3"
  },
  "language_info": {
   "codemirror_mode": {
    "name": "ipython",
    "version": 3
   },
   "file_extension": ".py",
   "mimetype": "text/x-python",
   "name": "python",
   "nbconvert_exporter": "python",
   "pygments_lexer": "ipython3",
   "version": "3.11.4"
  },
  "orig_nbformat": 4,
  "vscode": {
   "interpreter": {
    "hash": "916dbcbb3f70747c44a77c7bcd40155683ae19c65e1c03b4aa3499c5328201f1"
   }
  }
 },
 "nbformat": 4,
 "nbformat_minor": 2
}
